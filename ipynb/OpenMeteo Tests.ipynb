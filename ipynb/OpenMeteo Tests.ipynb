{
 "cells": [
  {
   "cell_type": "markdown",
   "id": "c9163d16",
   "metadata": {},
   "source": [
    "# OpenMeteo Test\n",
    "### Refferences\n",
    " https://open-meteo.com/en/docs\n",
    " https://paiza.hatenablog.com/entry/2021/11/04/130000\n",
    " "
   ]
  },
  {
   "cell_type": "code",
   "execution_count": 1,
   "id": "6a4043bc",
   "metadata": {},
   "outputs": [],
   "source": [
    "import requests\n",
    "\n",
    "### Meteo Weather APIから今日の天気コードを取得 \n",
    "def get_weather(lat, lng):\n",
    "    url = \"https://api.open-meteo.com/v1/forecast?latitude=\" + str(lat) + \"&longitude=\" + str(lng) + \"&hourly=weathercode&forecast_days=1&timezone=Asia%2FTokyo\"\n",
    "    weather_today = requests.get(url).json()\n",
    "\n",
    "    return(weather_today)\n",
    "\n",
    "### 特定時間の天気コードを取得\n",
    "def weather_jedge(lat, lng, hour):\n",
    "    \n",
    "    date = get_weather(lat, lng)\n",
    "    weather_code = date[\"hourly\"]['weathercode'][hour]\n",
    "    if weather_code > 60:\n",
    "        return(\"雨が降るでしょう\")\n",
    "    else:\n",
    "        return(\"晴れるでしょう\")"
   ]
  },
  {
   "cell_type": "code",
   "execution_count": 5,
   "id": "59ea9999",
   "metadata": {},
   "outputs": [],
   "source": [
    "weather = get_weather(35, 150)"
   ]
  },
  {
   "cell_type": "code",
   "execution_count": 6,
   "id": "290471fc",
   "metadata": {},
   "outputs": [
    {
     "data": {
      "text/plain": [
       "{'latitude': 35.0,\n",
       " 'longitude': 150.0,\n",
       " 'generationtime_ms': 0.0209808349609375,\n",
       " 'utc_offset_seconds': 32400,\n",
       " 'timezone': 'Asia/Tokyo',\n",
       " 'timezone_abbreviation': 'JST',\n",
       " 'elevation': 0.0,\n",
       " 'hourly_units': {'time': 'iso8601', 'weathercode': 'wmo code'},\n",
       " 'hourly': {'time': ['2024-01-01T00:00',\n",
       "   '2024-01-01T01:00',\n",
       "   '2024-01-01T02:00',\n",
       "   '2024-01-01T03:00',\n",
       "   '2024-01-01T04:00',\n",
       "   '2024-01-01T05:00',\n",
       "   '2024-01-01T06:00',\n",
       "   '2024-01-01T07:00',\n",
       "   '2024-01-01T08:00',\n",
       "   '2024-01-01T09:00',\n",
       "   '2024-01-01T10:00',\n",
       "   '2024-01-01T11:00',\n",
       "   '2024-01-01T12:00',\n",
       "   '2024-01-01T13:00',\n",
       "   '2024-01-01T14:00',\n",
       "   '2024-01-01T15:00',\n",
       "   '2024-01-01T16:00',\n",
       "   '2024-01-01T17:00',\n",
       "   '2024-01-01T18:00',\n",
       "   '2024-01-01T19:00',\n",
       "   '2024-01-01T20:00',\n",
       "   '2024-01-01T21:00',\n",
       "   '2024-01-01T22:00',\n",
       "   '2024-01-01T23:00'],\n",
       "  'weathercode': [3,\n",
       "   3,\n",
       "   3,\n",
       "   3,\n",
       "   2,\n",
       "   3,\n",
       "   2,\n",
       "   1,\n",
       "   2,\n",
       "   53,\n",
       "   51,\n",
       "   51,\n",
       "   53,\n",
       "   51,\n",
       "   53,\n",
       "   1,\n",
       "   51,\n",
       "   53,\n",
       "   51,\n",
       "   51,\n",
       "   51,\n",
       "   2,\n",
       "   2,\n",
       "   2]}}"
      ]
     },
     "execution_count": 6,
     "metadata": {},
     "output_type": "execute_result"
    }
   ],
   "source": [
    "weather"
   ]
  },
  {
   "cell_type": "code",
   "execution_count": 8,
   "id": "c09ab4ee",
   "metadata": {},
   "outputs": [
    {
     "data": {
      "text/plain": [
       "'Asia/Tokyo'"
      ]
     },
     "execution_count": 8,
     "metadata": {},
     "output_type": "execute_result"
    }
   ],
   "source": [
    "weather[\"timezone\"]"
   ]
  }
 ],
 "metadata": {
  "kernelspec": {
   "display_name": "Python 3 (ipykernel)",
   "language": "python",
   "name": "python3"
  },
  "language_info": {
   "codemirror_mode": {
    "name": "ipython",
    "version": 3
   },
   "file_extension": ".py",
   "mimetype": "text/x-python",
   "name": "python",
   "nbconvert_exporter": "python",
   "pygments_lexer": "ipython3",
   "version": "3.11.5"
  }
 },
 "nbformat": 4,
 "nbformat_minor": 5
}
